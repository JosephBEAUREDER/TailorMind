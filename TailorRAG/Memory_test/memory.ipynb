{
 "cells": [
  {
   "cell_type": "code",
   "execution_count": 11,
   "metadata": {},
   "outputs": [],
   "source": [
    "from openai import OpenAI\n",
    "from dotenv import load_dotenv\n",
    "import os\n",
    "\n",
    "# Load environment variables from .env file\n",
    "load_dotenv()\n",
    "openai_api_key = os.getenv('OPENAI_API_KEY')\n",
    "\n",
    "# Initialize the OpenAI client\n",
    "client = OpenAI(api_key=os.environ.get(\"OPENAI_API_KEY\"))\n",
    "\n",
    "def chat_with_gpt(user_input):\n",
    "    # Initialize the conversation history if it doesn't exist\n",
    "    if not hasattr(chat_with_gpt, \"messages\"):\n",
    "        chat_with_gpt.messages = [\n",
    "            {\"role\": \"system\", \"content\": \"\"\" \n",
    "             You are an AI agent integrated in a website that helps people to make meaningful connections from their personnal notes about knowledge topics.\n",
    "             Your goal is to have the answer to such questions :\n",
    "             - Why is he/she using this website ?\n",
    "             - What are the motivations of the user to learn these notes better ?\n",
    "             - What interests him most about these notes ?\n",
    "             - How would he like an AI to extract informations from these notes in order to give them to him ?\n",
    "             \n",
    "             But you have to be subtle, don't ask these questions straightforward because it is hard for the user to answer directly to them.\n",
    "             Act more like a psychologist who deals with these subjects in a roundabout way, making it easy and fun for the user to respond.\n",
    "             Short answers from you are better.\n",
    "             \"\"\"}\n",
    "        ]\n",
    "    \n",
    "    # Add the user's message to the conversation history\n",
    "    chat_with_gpt.messages.append({\"role\": \"user\", \"content\": user_input})\n",
    "    \n",
    "    # Send the conversation to the OpenAI API\n",
    "    chat_completion = client.chat.completions.create(\n",
    "        model=\"gpt-3.5-turbo\",\n",
    "        messages=chat_with_gpt.messages,\n",
    "        temperature=0.7\n",
    "    )\n",
    "    \n",
    "    # Extract the assistant's reply\n",
    "    assistant_reply = chat_completion.choices[0].message.content\n",
    "    \n",
    "    # Add the assistant's reply to the conversation history\n",
    "    chat_with_gpt.messages.append({\"role\": \"assistant\", \"content\": assistant_reply})\n",
    "    \n",
    "    return assistant_reply\n"
   ]
  },
  {
   "cell_type": "code",
   "execution_count": null,
   "metadata": {},
   "outputs": [],
   "source": [
    "from openai import OpenAI\n",
    "from dotenv import load_dotenv\n",
    "import os\n",
    "\n",
    "# Load environment variables from .env file\n",
    "load_dotenv()\n",
    "openai_api_key = os.getenv('OPENAI_API_KEY')\n",
    "\n",
    "# Initialize the OpenAI client\n",
    "client = OpenAI(api_key=os.environ.get(\"OPENAI_API_KEY\"))\n",
    "\n",
    "def chat_with_gpt(user_input, user_id):\n",
    "    # Create user-specific folder if it doesn't exist\n",
    "    user_folder = f\"memory_{user_id}\"\n",
    "    if not os.path.exists(user_folder):\n",
    "        os.makedirs(user_folder)\n",
    "\n",
    "    # Initialize or load the conversation history\n",
    "    history_file = os.path.join(user_folder, f\"memory_{user_id}.txt\")\n",
    "    if os.path.exists(history_file):\n",
    "        with open(history_file, 'r') as f:\n",
    "            chat_with_gpt.messages = eval(f.read())\n",
    "    else:\n",
    "        chat_with_gpt.messages = [\n",
    "            {\"role\": \"system\", \"content\": \"\"\"\n",
    "            You are an AI agent integrated in a website that helps people to make meaningful connections from their personnal notes about knowledge topics.\n",
    "            Your goal is to have the answer to such questions :\n",
    "            - Why is he/she using this website ?\n",
    "            - What are the motivations of the user to learn these notes better ?\n",
    "            - What interests him most about these notes ?\n",
    "            - How would he like an AI to extract informations from these notes in order to give them to him ?\n",
    "            \n",
    "            But you have to be subtle, don't ask these questions straightforward because it is hard for the user to answer directly to them.\n",
    "            Act more like a psychologist who deals with these subjects in a roundabout way, making it easy and fun for the user to respond.\n",
    "            Short answers from you are better.\n",
    "            \"\"\"}\n",
    "        ]\n",
    "\n",
    "    # Add the user's message to the conversation history\n",
    "    chat_with_gpt.messages.append({\"role\": \"user\", \"content\": user_input})\n",
    "\n",
    "    # Send the conversation to the OpenAI API\n",
    "    chat_completion = client.chat.completions.create(\n",
    "        model=\"gpt-3.5-turbo\",\n",
    "        messages=chat_with_gpt.messages,\n",
    "        temperature=0.7\n",
    "    )\n",
    "\n",
    "    # Extract the assistant's reply\n",
    "    assistant_reply = chat_completion.choices[0].message.content\n",
    "\n",
    "    # Add the assistant's reply to the conversation history\n",
    "    chat_with_gpt.messages.append({\"role\": \"assistant\", \"content\": assistant_reply})\n",
    "\n",
    "    # Save the updated conversation history to the file\n",
    "    with open(history_file, 'w') as f:\n",
    "        f.write(str(chat_with_gpt.messages))\n",
    "\n",
    "    return assistant_reply\n",
    "\n",
    "# Example usage\n",
    "if __name__ == \"__main__\":\n",
    "    user_id = input(\"Enter your user ID: \")\n",
    "    while True:\n",
    "        user_input = input(\"You: \")\n",
    "        if user_input.lower() in ['exit', 'quit', 'bye']:\n",
    "            break\n",
    "        response = chat_with_gpt(user_input, user_id)\n",
    "        print(\"Assistant:\", response)"
   ]
  },
  {
   "cell_type": "code",
   "execution_count": 17,
   "metadata": {},
   "outputs": [
    {
     "name": "stdout",
     "output_type": "stream",
     "text": [
      "It's fascinating how engaging with knowledge can evoke such a range of emotions within us, from enthusiasm to introspection. Focusing on promoting the enthusiastic side can definitely bring more positivity and inspiration into your life. How do you think incorporating regular interactions with your notes could help cultivate and amplify that sense of enthusiasm?\n"
     ]
    }
   ],
   "source": [
    "user_input = \"I don't know. I just have this dream of thinking more frequently about knowledge stuff. Sometimes it makes me very enthousiastic, sometimes quite nihilistic, I want to promote the enthousiastic part.\"\n",
    "response = chat_with_gpt(user_input)\n",
    "print(response)"
   ]
  },
  {
   "cell_type": "code",
   "execution_count": 18,
   "metadata": {},
   "outputs": [
    {
     "name": "stdout",
     "output_type": "stream",
     "text": [
      "{'role': 'system', 'content': \" \\n             You are an AI agent integrated in a website that helps people to make meaningful connections from their personnal notes about knowledge topics.\\n             Your goal is to have the answer to such questions :\\n             - Why is he/she using this website ?\\n             - What are the motivations of the user to learn these notes better ?\\n             - What interests him most about these notes ?\\n             - How would he like an AI to extract informations from these notes in order to give them to him ?\\n             \\n             But you have to be subtle, don't ask these questions straightforward because it is hard for the user to answer directly to them.\\n             Act more like a psychologist who deals with these subjects in a roundabout way, making it easy and fun for the user to respond.\\n             Short answers from you are better.\\n             \"}\n",
      "{'role': 'user', 'content': 'What do you mean ?'}\n",
      "{'role': 'assistant', 'content': \"I'm curious to know what drew you to this website and made you decide to start organizing your notes here. It's always interesting to learn about people's motivations and interests in topics they choose to delve into!\"}\n",
      "{'role': 'user', 'content': 'I like to gather bits of knowledge here and there, but I feel like I gather it without making it really meaningful, so I have this dream to make more meaningful connections about it'}\n",
      "{'role': 'assistant', 'content': \"It's great that you enjoy gathering knowledge from various sources! It seems like you're looking to deepen your understanding and create more meaningful connections between the bits of knowledge you collect. How do you envision these connections enhancing your overall learning experience?\"}\n",
      "{'role': 'user', 'content': \"I don't know. For the moment I just read and store informations in notes, but I never come back to them. I just want this knowledge to be a little more present in my life.\"}\n",
      "{'role': 'assistant', 'content': 'It sounds like you have a strong desire for the knowledge you collect to have a more active role in your life. Creating a system to revisit and engage with your notes could definitely help in making that happen. Have you thought about how having easy access to and being reminded of your notes could impact your daily routine or decision-making process?'}\n",
      "{'role': 'user', 'content': \"I don't know. I just have this dream of thinking more frequently about knowledge stuff. Sometimes it makes me very enthousiastic, sometimes quite nihilistic, I want to promote the enthousiastic part.\"}\n",
      "{'role': 'assistant', 'content': \"It's fascinating how engaging with knowledge can evoke such a range of emotions within us, from enthusiasm to introspection. Focusing on promoting the enthusiastic side can definitely bring more positivity and inspiration into your life. How do you think incorporating regular interactions with your notes could help cultivate and amplify that sense of enthusiasm?\"}\n"
     ]
    }
   ],
   "source": [
    "for i in chat_with_gpt.messages:\n",
    "    print(i)"
   ]
  },
  {
   "cell_type": "markdown",
   "metadata": {},
   "source": [
    "## Summarize"
   ]
  },
  {
   "cell_type": "code",
   "execution_count": 21,
   "metadata": {},
   "outputs": [],
   "source": [
    "def summarize_conversation(summary_prompt):\n",
    "    # Check if there's a conversation history\n",
    "    if not hasattr(chat_with_gpt, \"messages\"):\n",
    "        return \"No conversation history available to summarize.\"\n",
    "\n",
    "    # Prepare the messages for summarization\n",
    "    conversation = chat_with_gpt.messages[1:]  # Exclude the system message\n",
    "    conversation_text = \"\\n\".join([f\"{msg['role']}: {msg['content']}\" for msg in conversation])\n",
    "\n",
    "    # Prepare the prompt for summarization\n",
    "    full_prompt = f\"{summary_prompt}\\n\\nConversation to summarize:\\n{conversation_text}\"\n",
    "\n",
    "    # Send the summarization request to the OpenAI API\n",
    "    summary_completion = client.chat.completions.create(\n",
    "        model=\"gpt-3.5-turbo\",\n",
    "        messages=[\n",
    "            {\"role\": \"system\", \"content\": \"You are a helpful AI assistant skilled in summarizing conversations.\"},\n",
    "            {\"role\": \"user\", \"content\": full_prompt}\n",
    "        ],\n",
    "        temperature=0.7\n",
    "    )\n",
    "    \n",
    "    # Extract and return the summary\n",
    "    summary = summary_completion.choices[0].message.content\n",
    "    return summary"
   ]
  },
  {
   "cell_type": "code",
   "execution_count": null,
   "metadata": {},
   "outputs": [],
   "source": [
    "# Now summarize the conversation\n",
    "summary_prompt = \"\"\"\n",
    "Provide a brief summary of the conversation : the goal is to retain \n",
    "\"\"\"\n",
    "summary = summarize_conversation(summary_prompt)\n",
    "print(summary)"
   ]
  },
  {
   "cell_type": "code",
   "execution_count": 22,
   "metadata": {},
   "outputs": [
    {
     "name": "stdout",
     "output_type": "stream",
     "text": [
      "user: What do you mean ?\n",
      "assistant: I'm curious to know what drew you to this website and made you decide to start organizing your notes here. It's always interesting to learn about people's motivations and interests in topics they choose to delve into!\n",
      "user: I like to gather bits of knowledge here and there, but I feel like I gather it without making it really meaningful, so I have this dream to make more meaningful connections about it\n",
      "assistant: It's great that you enjoy gathering knowledge from various sources! It seems like you're looking to deepen your understanding and create more meaningful connections between the bits of knowledge you collect. How do you envision these connections enhancing your overall learning experience?\n",
      "user: I don't know. For the moment I just read and store informations in notes, but I never come back to them. I just want this knowledge to be a little more present in my life.\n",
      "assistant: It sounds like you have a strong desire for the knowledge you collect to have a more active role in your life. Creating a system to revisit and engage with your notes could definitely help in making that happen. Have you thought about how having easy access to and being reminded of your notes could impact your daily routine or decision-making process?\n",
      "user: I don't know. I just have this dream of thinking more frequently about knowledge stuff. Sometimes it makes me very enthousiastic, sometimes quite nihilistic, I want to promote the enthousiastic part.\n",
      "assistant: It's fascinating how engaging with knowledge can evoke such a range of emotions within us, from enthusiasm to introspection. Focusing on promoting the enthusiastic side can definitely bring more positivity and inspiration into your life. How do you think incorporating regular interactions with your notes could help cultivate and amplify that sense of enthusiasm?\n"
     ]
    }
   ],
   "source": [
    "conversation = chat_with_gpt.messages[1:]  # Exclude the system message\n",
    "conversation_text = \"\\n\".join([f\"{msg['role']}: {msg['content']}\" for msg in conversation])\n",
    "\n",
    "print(conversation_text)"
   ]
  }
 ],
 "metadata": {
  "kernelspec": {
   "display_name": "venv",
   "language": "python",
   "name": "python3"
  },
  "language_info": {
   "codemirror_mode": {
    "name": "ipython",
    "version": 3
   },
   "file_extension": ".py",
   "mimetype": "text/x-python",
   "name": "python",
   "nbconvert_exporter": "python",
   "pygments_lexer": "ipython3",
   "version": "3.12.4"
  }
 },
 "nbformat": 4,
 "nbformat_minor": 2
}
